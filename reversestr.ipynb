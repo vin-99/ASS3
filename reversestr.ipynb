{
 "cells": [
  {
   "cell_type": "code",
   "execution_count": 4,
   "id": "6921e44f",
   "metadata": {},
   "outputs": [
    {
     "name": "stdout",
     "output_type": "stream",
     "text": [
      "dog\n"
     ]
    }
   ],
   "source": [
    "def rev(st1):\n",
    "    z = ''\n",
    "    l = len(st1)\n",
    "    for x in range(1,l+1):\n",
    "        index = l-x\n",
    "        c = st1[index]\n",
    "        z = z + c\n",
    "    print(z)\n",
    "    \n",
    "rev('SajalT')"
   ]
  },
  {
   "cell_type": "code",
   "execution_count": null,
   "id": "b7f6f838",
   "metadata": {},
   "outputs": [],
   "source": []
  }
 ],
 "metadata": {
  "kernelspec": {
   "display_name": "Python 3 (ipykernel)",
   "language": "python",
   "name": "python3"
  },
  "language_info": {
   "codemirror_mode": {
    "name": "ipython",
    "version": 3
   },
   "file_extension": ".py",
   "mimetype": "text/x-python",
   "name": "python",
   "nbconvert_exporter": "python",
   "pygments_lexer": "ipython3",
   "version": "3.10.1"
  }
 },
 "nbformat": 4,
 "nbformat_minor": 5
}
