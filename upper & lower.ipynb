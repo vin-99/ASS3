{
 "cells": [
  {
   "cell_type": "code",
   "execution_count": 18,
   "id": "4ced15de",
   "metadata": {},
   "outputs": [
    {
     "name": "stdout",
     "output_type": "stream",
     "text": [
      "No. of Upper case characters 3\n",
      "No. of Lower case Characters 12\n"
     ]
    }
   ],
   "source": [
    "def cal(za):\n",
    "    upp_count = 0\n",
    "    low_count = 0\n",
    "    for x in za:\n",
    "        if x != ' ':\n",
    "            if x == x.upper():\n",
    "                upp_count+=1\n",
    "            else:\n",
    "                low_count+=1\n",
    "                \n",
    "    print(\"No. of Upper case characters\",upp_count)\n",
    "    print(\"No. of Lower case Characters\",low_count)\n",
    "    \n",
    "cal('The quick Brow Fox')"
   ]
  },
  {
   "cell_type": "code",
   "execution_count": null,
   "id": "688dee79",
   "metadata": {},
   "outputs": [],
   "source": []
  }
 ],
 "metadata": {
  "kernelspec": {
   "display_name": "Python 3 (ipykernel)",
   "language": "python",
   "name": "python3"
  },
  "language_info": {
   "codemirror_mode": {
    "name": "ipython",
    "version": 3
   },
   "file_extension": ".py",
   "mimetype": "text/x-python",
   "name": "python",
   "nbconvert_exporter": "python",
   "pygments_lexer": "ipython3",
   "version": "3.10.1"
  }
 },
 "nbformat": 4,
 "nbformat_minor": 5
}
